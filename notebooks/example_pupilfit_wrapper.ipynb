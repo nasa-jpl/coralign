{
 "cells": [
  {
   "cell_type": "markdown",
   "id": "30a814ef",
   "metadata": {},
   "source": [
    "# EXAMPLE: \n",
    "# USING coralign.pupil.pupilfit.fit_unmasked_pupil() FOR ALIGNMENT"
   ]
  },
  {
   "cell_type": "markdown",
   "id": "7f9faf91",
   "metadata": {},
   "source": [
    "### IMPORTS"
   ]
  },
  {
   "cell_type": "code",
   "execution_count": 1,
   "id": "1481ae14",
   "metadata": {},
   "outputs": [],
   "source": [
    "import sys\n",
    "import os\n",
    "sys.path.insert(0,\"../\")\n",
    "sys.path.append(\"/opt/homebrew/lib/python3.10/site-packages\")\n",
    "\n",
    "import numpy as np\n",
    "import scipy.ndimage\n",
    "import matplotlib.pyplot as plt\n",
    "from astropy.io import fits\n",
    "\n",
    "from coralign.pupil import pupilfit\n",
    "from coralign.util import shapes, mft\n",
    "from coralign.util.loadyaml import loadyaml\n",
    "\n",
    "from tempfile import NamedTemporaryFile"
   ]
  },
  {
   "cell_type": "markdown",
   "id": "b1fae088",
   "metadata": {},
   "source": [
    "### FUNCTIONS FOR GENERATION OF SIMULATED PUPIL PLANE"
   ]
  },
  {
   "cell_type": "code",
   "execution_count": 2,
   "id": "2f957cd1",
   "metadata": {},
   "outputs": [],
   "source": [
    "def gen_pupil(pupil_x_shear, pupil_y_shear, print_figure=False):\n",
    "    # %% Pupil Generation\n",
    "\n",
    "    Nbeam = 100\n",
    "    nx = 150\n",
    "    ny = nx\n",
    "    xOffset = pupil_x_shear\n",
    "    yOffset = pupil_y_shear\n",
    "    diamInner = 0.20*Nbeam\n",
    "    diamOuter = 1.00*Nbeam\n",
    "    strutAngles = np.array([0, 90, 180, 270]) + 15\n",
    "    strutWidth = 0.03*Nbeam\n",
    "    pupil = shapes.simple_pupil(nx, ny, xOffset, yOffset, diamInner, diamOuter,\n",
    "                                strutAngles=strutAngles, strutWidth=strutWidth)\n",
    "\n",
    "    if print_figure:\n",
    "        plt.figure(1)\n",
    "        plt.imshow(pupil)\n",
    "        plt.colorbar()\n",
    "        plt.gca().invert_yaxis()\n",
    "        plt.title(\"PUPIL\")\n",
    "        plt.pause(0.1)\n",
    "        \n",
    "    return pupil"
   ]
  },
  {
   "cell_type": "code",
   "execution_count": 3,
   "id": "32d260ef",
   "metadata": {},
   "outputs": [],
   "source": [
    "# %% Apply noise to the images\n",
    "\n",
    "def add_pupil_noise(pupil, image_noise_factor, print_figure=False):\n",
    "    \n",
    "    IpupilNoisy = pupil + image_noise_factor*np.random.randn(pupil.shape[0], pupil.shape[1])\n",
    "    \n",
    "    if print_figure:\n",
    "        plt.figure(2)\n",
    "        plt.imshow(IpupilNoisy)\n",
    "        plt.colorbar()\n",
    "        plt.gca().invert_yaxis()\n",
    "        plt.title('PUPIL WITH NOISE')\n",
    "        plt.pause(0.1)\n",
    "        \n",
    "    return IpupilNoisy"
   ]
  },
  {
   "cell_type": "markdown",
   "id": "c861a6d9",
   "metadata": {},
   "source": [
    "### EXAMPLE OF FUNCTION TO PERFORM PUPIL ALIGNMENT "
   ]
  },
  {
   "cell_type": "code",
   "execution_count": 4,
   "id": "8091ced7",
   "metadata": {},
   "outputs": [],
   "source": [
    "def simulate_fit_unmasked_pupil_alignment(pupil_x_shear, pupil_y_shear, image_noise_factor, const, print_figure=False):\n",
    "        \n",
    "    pupil_x_center_true = 0\n",
    "    pupil_y_center_true = 0\n",
    "    \n",
    "    pupil = gen_pupil(pupil_x_shear, pupil_y_shear)\n",
    "    noisy_pupil = add_pupil_noise(pupil, image_noise_factor, print_figure)\n",
    "    computed_pupil = noisy_pupil\n",
    "    \n",
    "    xOffset, yOffset = float(\"inf\"), float(\"inf\")\n",
    "    iterations = 0\n",
    "    \n",
    "    while ((abs(pupil_x_center_true - pupil_x_shear) > 1/8 or abs(pupil_y_center_true - pupil_y_shear) > 1/8) and iterations < 20):\n",
    "\n",
    "        fn_tuning = \"testdata/ut_fit_unmasked_pupil.yaml\"\n",
    "        fn_pupil_ellipse_fitting = \"testdata/ut_fit_pupil_as_ellipse_diam_michael.yaml\"\n",
    "\n",
    "        tuning_dict = loadyaml(fn_tuning)\n",
    "        fnMaskRefHighRes = tuning_dict['fnMaskRefHighRes']\n",
    "        diamHighRes = tuning_dict['diamHighRes']\n",
    "        \n",
    "        nArray = int(diamHighRes + 50)\n",
    "        pupilHighRes = shapes.ellipse(nArray, nArray,\n",
    "                                    0.5*diamHighRes*0.9901, 0.5*diamHighRes,\n",
    "                                    0, 0, 0) -\\\n",
    "                    shapes.ellipse(nArray, nArray,\n",
    "                                    0.05*diamHighRes, 0.3*diamHighRes,\n",
    "                                    0, 0, 0)\n",
    "\n",
    "        # Refer to https://echorand.me/posts/named_temporary_file/ for help\n",
    "        # with the temporary file usage.\n",
    "        f = NamedTemporaryFile()\n",
    "        # Save original name (the \"name\" actually is the absolute path)\n",
    "        original_path = f.name\n",
    "        f.name = fnMaskRefHighRes\n",
    "        hdu = fits.PrimaryHDU(pupilHighRes)\n",
    "        hdu.writeto(f.name, overwrite=True)\n",
    "        \n",
    "        xOffset, yOffset, clockEst, diamEst = pupilfit.fit_unmasked_pupil(computed_pupil, fn_tuning, fn_pupil_ellipse_fitting, './')\n",
    "        \n",
    "        os.unlink(f.name)\n",
    "        \n",
    "        pupil_x_shear -= xOffset * const\n",
    "        pupil_y_shear -= yOffset * const\n",
    "        \n",
    "        computed_pupil = gen_pupil(pupil_x_shear, pupil_y_shear)\n",
    "        \n",
    "        computed_pupil = add_pupil_noise(computed_pupil,image_noise_factor, print_figure)\n",
    "\n",
    "        iterations += 1\n",
    "    \n",
    "    return iterations"
   ]
  },
  {
   "cell_type": "markdown",
   "id": "1d511252",
   "metadata": {},
   "source": [
    "### EXAMPLE OF FUNCTION TO OPTIMIZE CONSTANT FOR PUPIL ALIGNMENT"
   ]
  },
  {
   "cell_type": "code",
   "execution_count": 5,
   "id": "50aa3841",
   "metadata": {},
   "outputs": [],
   "source": [
    "def find_optimal_const(pupil_x_shear, pupil_y_shear, image_noise_factor, range_limit, print_figure=False, print_iteration_num=False):\n",
    "    min_num_iterations = float(\"inf\")\n",
    "    optimal_const = -1\n",
    "    const = 0.85\n",
    "    \n",
    "    while const < range_limit:\n",
    "    \n",
    "        num_iterations = simulate_fit_unmasked_pupil_alignment(pupil_x_shear, pupil_y_shear, image_noise_factor, const)\n",
    "        \n",
    "        if(print_iteration_num):\n",
    "            print(\"CONSTANT\" , const, \"TOOK\", num_iterations, \"ITERATIONS TO CONVERGE.\")\n",
    "        \n",
    "        if num_iterations < min_num_iterations:\n",
    "            min_num_iterations = num_iterations\n",
    "            optimal_const = const\n",
    "        \n",
    "        const += 0.05\n",
    "        \n",
    "    return optimal_const, min_num_iterations"
   ]
  },
  {
   "cell_type": "markdown",
   "id": "5c8e226a",
   "metadata": {},
   "source": [
    "### MODIFIABLE PARAMETERS"
   ]
  },
  {
   "cell_type": "code",
   "execution_count": 6,
   "id": "f1fabad2",
   "metadata": {},
   "outputs": [],
   "source": [
    "# PUPIL\n",
    "pupil_x_shear = -7  # in units of pixels\n",
    "pupil_y_shear = 5  # in units of pixels\n",
    "\n",
    "# NOISE FACTOR\n",
    "image_noise_factor = 0.08\n",
    "\n",
    "# CONSTANT\n",
    "optimization_range_limit = 1.25"
   ]
  },
  {
   "cell_type": "markdown",
   "id": "31380cab",
   "metadata": {},
   "source": [
    "### GENERATE PUPIL (SIMULATION)"
   ]
  },
  {
   "cell_type": "code",
   "execution_count": 7,
   "id": "8b075a8e",
   "metadata": {},
   "outputs": [
    {
     "data": {
      "image/png": "[encoded data removed]",
      "text/plain": [
       "<Figure size 640x480 with 2 Axes>"
      ]
     },
     "metadata": {},
     "output_type": "display_data"
    }
   ],
   "source": [
    "pupil = gen_pupil(pupil_x_shear, pupil_y_shear, True)"
   ]
  },
  {
   "cell_type": "markdown",
   "id": "a81154cd",
   "metadata": {},
   "source": [
    "### OPTIMIZE CONSTANT VALUE FOR PUPIL ALIGNMENT"
   ]
  },
  {
   "cell_type": "code",
   "execution_count": 8,
   "id": "24a9c7ec",
   "metadata": {},
   "outputs": [
    {
     "name": "stdout",
     "output_type": "stream",
     "text": [
      "CONSTANT 0.85 TOOK 3 ITERATIONS TO CONVERGE.\n",
      "CONSTANT 0.9 TOOK 2 ITERATIONS TO CONVERGE.\n",
      "CONSTANT 0.9500000000000001 TOOK 2 ITERATIONS TO CONVERGE.\n",
      "CONSTANT 1.0 TOOK 1 ITERATIONS TO CONVERGE.\n",
      "CONSTANT 1.05 TOOK 2 ITERATIONS TO CONVERGE.\n",
      "CONSTANT 1.1 TOOK 2 ITERATIONS TO CONVERGE.\n",
      "CONSTANT 1.1500000000000001 TOOK 3 ITERATIONS TO CONVERGE.\n"
     ]
    },
    {
     "ename": "error",
     "evalue": "OpenCV(4.7.0) /Users/opencv-cn/GHA-OCV-1/_work/opencv-python/opencv-python/opencv/modules/imgproc/src/shapedescr.cpp:360: error: (-201:Incorrect size of input array) There should be at least 5 points to fit the ellipse in function 'fitEllipseNoDirect'\n",
     "output_type": "error",
     "traceback": [
      "\u001b[0;31m---------------------------------------------------------------------------\u001b[0m",
      "\u001b[0;31merror\u001b[0m                                     Traceback (most recent call last)",
      "Cell \u001b[0;32mIn[8], line 1\u001b[0m\n\u001b[0;32m----> 1\u001b[0m optimal_const, min_num_iterations \u001b[38;5;241m=\u001b[39m \u001b[43mfind_optimal_const\u001b[49m\u001b[43m(\u001b[49m\u001b[43mpupil_x_shear\u001b[49m\u001b[43m,\u001b[49m\u001b[43m \u001b[49m\u001b[43mpupil_y_shear\u001b[49m\u001b[43m,\u001b[49m\u001b[43m \u001b[49m\u001b[43mimage_noise_factor\u001b[49m\u001b[43m,\u001b[49m\u001b[43m \u001b[49m\u001b[43moptimization_range_limit\u001b[49m\u001b[43m,\u001b[49m\u001b[43m \u001b[49m\u001b[43mprint_iteration_num\u001b[49m\u001b[43m \u001b[49m\u001b[38;5;241;43m=\u001b[39;49m\u001b[43m \u001b[49m\u001b[38;5;28;43;01mTrue\u001b[39;49;00m\u001b[43m)\u001b[49m\n\u001b[1;32m      2\u001b[0m min_num_it_str \u001b[38;5;241m=\u001b[39m \u001b[38;5;124m\"\u001b[39m\u001b[38;5;124m(\u001b[39m\u001b[38;5;124m\"\u001b[39m \u001b[38;5;241m+\u001b[39m \u001b[38;5;28mstr\u001b[39m(min_num_iterations) \u001b[38;5;241m+\u001b[39m \u001b[38;5;124m\"\u001b[39m\u001b[38;5;124m ITERATION(S))\u001b[39m\u001b[38;5;124m\"\u001b[39m\n\u001b[1;32m      3\u001b[0m \u001b[38;5;28mprint\u001b[39m(\u001b[38;5;124m\"\u001b[39m\u001b[38;5;124mOPTIMAL CONSTANT:\u001b[39m\u001b[38;5;124m\"\u001b[39m, optimal_const, min_num_it_str)\n",
      "Cell \u001b[0;32mIn[5], line 8\u001b[0m, in \u001b[0;36mfind_optimal_const\u001b[0;34m(pupil_x_shear, pupil_y_shear, image_noise_factor, range_limit, print_figure, print_iteration_num)\u001b[0m\n\u001b[1;32m      4\u001b[0m const \u001b[38;5;241m=\u001b[39m \u001b[38;5;241m0.85\u001b[39m\n\u001b[1;32m      6\u001b[0m \u001b[38;5;28;01mwhile\u001b[39;00m const \u001b[38;5;241m<\u001b[39m range_limit:\n\u001b[0;32m----> 8\u001b[0m     num_iterations \u001b[38;5;241m=\u001b[39m \u001b[43msimulate_fit_unmasked_pupil_alignment\u001b[49m\u001b[43m(\u001b[49m\u001b[43mpupil_x_shear\u001b[49m\u001b[43m,\u001b[49m\u001b[43m \u001b[49m\u001b[43mpupil_y_shear\u001b[49m\u001b[43m,\u001b[49m\u001b[43m \u001b[49m\u001b[43mimage_noise_factor\u001b[49m\u001b[43m,\u001b[49m\u001b[43m \u001b[49m\u001b[43mconst\u001b[49m\u001b[43m)\u001b[49m\n\u001b[1;32m     10\u001b[0m     \u001b[38;5;28;01mif\u001b[39;00m(print_iteration_num):\n\u001b[1;32m     11\u001b[0m         \u001b[38;5;28mprint\u001b[39m(\u001b[38;5;124m\"\u001b[39m\u001b[38;5;124mCONSTANT\u001b[39m\u001b[38;5;124m\"\u001b[39m , const, \u001b[38;5;124m\"\u001b[39m\u001b[38;5;124mTOOK\u001b[39m\u001b[38;5;124m\"\u001b[39m, num_iterations, \u001b[38;5;124m\"\u001b[39m\u001b[38;5;124mITERATIONS TO CONVERGE.\u001b[39m\u001b[38;5;124m\"\u001b[39m)\n",
      "Cell \u001b[0;32mIn[4], line 39\u001b[0m, in \u001b[0;36msimulate_fit_unmasked_pupil_alignment\u001b[0;34m(pupil_x_shear, pupil_y_shear, image_noise_factor, const, print_figure)\u001b[0m\n\u001b[1;32m     36\u001b[0m hdu \u001b[38;5;241m=\u001b[39m fits\u001b[38;5;241m.\u001b[39mPrimaryHDU(pupilHighRes)\n\u001b[1;32m     37\u001b[0m hdu\u001b[38;5;241m.\u001b[39mwriteto(f\u001b[38;5;241m.\u001b[39mname, overwrite\u001b[38;5;241m=\u001b[39m\u001b[38;5;28;01mTrue\u001b[39;00m)\n\u001b[0;32m---> 39\u001b[0m xOffset, yOffset, clockEst, diamEst \u001b[38;5;241m=\u001b[39m \u001b[43mpupilfit\u001b[49m\u001b[38;5;241;43m.\u001b[39;49m\u001b[43mfit_unmasked_pupil\u001b[49m\u001b[43m(\u001b[49m\u001b[43mcomputed_pupil\u001b[49m\u001b[43m,\u001b[49m\u001b[43m \u001b[49m\u001b[43mfn_tuning\u001b[49m\u001b[43m,\u001b[49m\u001b[43m \u001b[49m\u001b[43mfn_pupil_ellipse_fitting\u001b[49m\u001b[43m,\u001b[49m\u001b[43m \u001b[49m\u001b[38;5;124;43m'\u001b[39;49m\u001b[38;5;124;43m./\u001b[39;49m\u001b[38;5;124;43m'\u001b[39;49m\u001b[43m)\u001b[49m\n\u001b[1;32m     41\u001b[0m os\u001b[38;5;241m.\u001b[39munlink(f\u001b[38;5;241m.\u001b[39mname)\n\u001b[1;32m     43\u001b[0m pupil_x_shear \u001b[38;5;241m-\u001b[39m\u001b[38;5;241m=\u001b[39m xOffset \u001b[38;5;241m*\u001b[39m const\n",
      "File \u001b[0;32m~/Documents/MyDocuments/Github_folder/coralign/notebooks/../coralign/pupil/pupilfit.py:120\u001b[0m, in \u001b[0;36mfit_unmasked_pupil\u001b[0;34m(pupil, fn_tuning, fn_pupil_ellipse_fitting, data_path, debug)\u001b[0m\n\u001b[1;32m    118\u001b[0m debug_plot(debug, \u001b[38;5;241m1\u001b[39m, pupil, \u001b[38;5;124m'\u001b[39m\u001b[38;5;124mINPUT IMAGE\u001b[39m\u001b[38;5;124m'\u001b[39m)\n\u001b[1;32m    119\u001b[0m pupil \u001b[38;5;241m=\u001b[39m ampthresh(pupil)\u001b[38;5;241m.\u001b[39mastype(\u001b[38;5;28mfloat\u001b[39m)\n\u001b[0;32m--> 120\u001b[0m diamEst, xOffsetCoarse, yOffsetCoarse \u001b[38;5;241m=\u001b[39m \u001b[43mfit_ellipse\u001b[49m\u001b[43m(\u001b[49m\n\u001b[1;32m    121\u001b[0m \u001b[43m    \u001b[49m\u001b[43mpupil\u001b[49m\u001b[43m,\u001b[49m\u001b[43m \u001b[49m\u001b[43mfn_pupil_ellipse_fitting\u001b[49m\u001b[43m)\u001b[49m\n\u001b[1;32m    123\u001b[0m \u001b[38;5;66;03m# Compute fine estimates of x- and y-offsets\u001b[39;00m\n\u001b[1;32m    124\u001b[0m xOffsetRef \u001b[38;5;241m=\u001b[39m \u001b[38;5;241m0\u001b[39m\n",
      "File \u001b[0;32m~/Documents/MyDocuments/Github_folder/coralign/notebooks/../coralign/util/fit_shapes.py:143\u001b[0m, in \u001b[0;36mfit_ellipse\u001b[0;34m(pupil_image, fn_pupil_ellipse_fitting)\u001b[0m\n\u001b[1;32m    140\u001b[0m contours, hierarchy \u001b[38;5;241m=\u001b[39m cv2\u001b[38;5;241m.\u001b[39mfindContours(pupilOut, cv2\u001b[38;5;241m.\u001b[39mRETR_TREE,\n\u001b[1;32m    141\u001b[0m                                        cv2\u001b[38;5;241m.\u001b[39mCHAIN_APPROX_SIMPLE)\n\u001b[1;32m    142\u001b[0m cnt \u001b[38;5;241m=\u001b[39m contours[\u001b[38;5;241m0\u001b[39m]\n\u001b[0;32m--> 143\u001b[0m ellipse \u001b[38;5;241m=\u001b[39m \u001b[43mcv2\u001b[49m\u001b[38;5;241;43m.\u001b[39;49m\u001b[43mfitEllipse\u001b[49m\u001b[43m(\u001b[49m\u001b[43mcnt\u001b[49m\u001b[43m)\u001b[49m\n\u001b[1;32m    145\u001b[0m xc \u001b[38;5;241m=\u001b[39m ellipse[\u001b[38;5;241m0\u001b[39m][\u001b[38;5;241m0\u001b[39m]\n\u001b[1;32m    146\u001b[0m yc \u001b[38;5;241m=\u001b[39m ellipse[\u001b[38;5;241m0\u001b[39m][\u001b[38;5;241m1\u001b[39m]\n",
      "\u001b[0;31merror\u001b[0m: OpenCV(4.7.0) /Users/opencv-cn/GHA-OCV-1/_work/opencv-python/opencv-python/opencv/modules/imgproc/src/shapedescr.cpp:360: error: (-201:Incorrect size of input array) There should be at least 5 points to fit the ellipse in function 'fitEllipseNoDirect'\n"
     ]
    }
   ],
   "source": [
    "optimal_const, min_num_iterations = find_optimal_const(pupil_x_shear, pupil_y_shear, image_noise_factor, optimization_range_limit, print_iteration_num = True)\n",
    "min_num_it_str = \"(\" + str(min_num_iterations) + \" ITERATION(S))\"\n",
    "print(\"OPTIMAL CONSTANT:\", optimal_const, min_num_it_str)"
   ]
  },
  {
   "cell_type": "markdown",
   "id": "ae0b5fda",
   "metadata": {},
   "source": [
    "### SIMULATE ALIGNMENT OF PUPIL"
   ]
  },
  {
   "cell_type": "code",
   "execution_count": null,
   "id": "6feab602",
   "metadata": {
    "scrolled": true
   },
   "outputs": [],
   "source": [
    "num_iterations = simulate_fit_unmasked_pupil_alignment(pupil_x_shear, pupil_x_shear, image_noise_factor, optimal_const, True)\n",
    "print(\"ITERATIONS UNTIL CONVERGENCE:\", num_iterations)"
   ]
  },
  {
   "cell_type": "code",
   "execution_count": null,
   "id": "517a7891",
   "metadata": {},
   "outputs": [],
   "source": []
  }
 ],
 "metadata": {
  "kernelspec": {
   "display_name": "Python 3 (ipykernel)",
   "language": "python",
   "name": "python3"
  },
  "language_info": {
   "codemirror_mode": {
    "name": "ipython",
    "version": 3
   },
   "file_extension": ".py",
   "mimetype": "text/x-python",
   "name": "python",
   "nbconvert_exporter": "python",
   "pygments_lexer": "ipython3",
   "version": "3.10.9"
  }
 },
 "nbformat": 4,
 "nbformat_minor": 5
}
